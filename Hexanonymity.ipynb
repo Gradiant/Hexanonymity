{
 "cells": [
  {
   "attachments": {},
   "cell_type": "markdown",
   "metadata": {},
   "source": [
    "# Hexanonymity - GPS data Anonymization\n",
    "\n"
   ]
  },
  {
   "cell_type": "code",
   "execution_count": 25,
   "metadata": {},
   "outputs": [
    {
     "name": "stdout",
     "output_type": "stream",
     "text": [
      "Note: you may need to restart the kernel to use updated packages.\n"
     ]
    },
    {
     "name": "stderr",
     "output_type": "stream",
     "text": [
      "\n",
      "[notice] A new release of pip available: 22.3.1 -> 23.0.1\n",
      "[notice] To update, run: python.exe -m pip install --upgrade pip\n"
     ]
    }
   ],
   "source": [
    "%pip install -q -r requirements.txt"
   ]
  },
  {
   "cell_type": "code",
   "execution_count": 26,
   "metadata": {},
   "outputs": [],
   "source": [
    "import pandas as pd\n",
    "import numpy as np\n",
    "from numpy import array\n",
    "from src.application.Hexanonymity.Hexanonymity import Hexanonimity"
   ]
  },
  {
   "attachments": {},
   "cell_type": "markdown",
   "metadata": {},
   "source": [
    "## Initialize a dataset with sample data"
   ]
  },
  {
   "cell_type": "code",
   "execution_count": 27,
   "metadata": {},
   "outputs": [],
   "source": [
    "df = pd.DataFrame(\n",
    "        {\n",
    "            \"locations\": pd.Series(\n",
    "                array(\n",
    "                    [\n",
    "                        \"-8.7354573,42.2239522\",\n",
    "                        \"-8.7357169,42.224499\",\n",
    "                        \"-8.8932563,42.1011589\",\n",
    "                        \"-8.8910411,42.08599\",\n",
    "                    ]\n",
    "                ),\n",
    "                dtype=str,\n",
    "            ),\n",
    "            \"id\": pd.Series(array([\"1\", \"2\", \"1\", \"2\"]), dtype=str),\n",
    "            \"other_locations\": pd.Series(array([\"a1\", \"b2\", \"c3\", \"d2\"]), dtype=str),\n",
    "        }\n",
    "    )"
   ]
  },
  {
   "attachments": {},
   "cell_type": "markdown",
   "metadata": {},
   "source": [
    "## Generate Hexanonymity Configuration\n",
    "\n",
    "The configuration of the Hexanonymity algorithm requires the following information: \n",
    "\n",
    "- `configuration`: `JSON` object with the following field: \n",
    "    - `k`: Minimum k (at least k=2 to provide privacy)\n",
    "    - `min_p`: Minimum size to be applied in the hiearchy of Uber H3\n",
    "    - `max_p`: Minimum size to be applied in the hiearchy of Uber H3\n",
    "- `fields`: Column name which contains the geo-positioned data points\n",
    "- `id_col`: Column name which contains the user identifier. \n",
    "- `sensitive_cols`: An (optional) list of column name(s) with other fields to write the anonymised position to. In some datasets, the gps data points appear in multiple columns. You can set the additional columns in this field of the configuration to anonymise all the columns at once. "
   ]
  },
  {
   "cell_type": "code",
   "execution_count": 28,
   "metadata": {},
   "outputs": [],
   "source": [
    "\n",
    "operation = Hexanonimity(\n",
    "    configuration={\"k\": 2, \"min_p\": 0, \"max_p\": 14},\n",
    "    fields=[\"locations\"],\n",
    "    id_col=\"id\",\n",
    "    sensitive_cols=[\n",
    "        \"other_locations\",\n",
    "    ],\n",
    ")"
   ]
  },
  {
   "attachments": {},
   "cell_type": "markdown",
   "metadata": {},
   "source": [
    "## Anonymize and verify the results\n",
    "\n",
    "We can observe that after anonymizing the dataset, there are no unique locations in the resultant Dataframe"
   ]
  },
  {
   "cell_type": "code",
   "execution_count": 29,
   "metadata": {},
   "outputs": [
    {
     "data": {
      "text/html": [
       "<div>\n",
       "<style scoped>\n",
       "    .dataframe tbody tr th:only-of-type {\n",
       "        vertical-align: middle;\n",
       "    }\n",
       "\n",
       "    .dataframe tbody tr th {\n",
       "        vertical-align: top;\n",
       "    }\n",
       "\n",
       "    .dataframe thead th {\n",
       "        text-align: right;\n",
       "    }\n",
       "</style>\n",
       "<table border=\"1\" class=\"dataframe\">\n",
       "  <thead>\n",
       "    <tr style=\"text-align: right;\">\n",
       "      <th></th>\n",
       "      <th>locations</th>\n",
       "      <th>id</th>\n",
       "      <th>other_locations</th>\n",
       "    </tr>\n",
       "  </thead>\n",
       "  <tbody>\n",
       "    <tr>\n",
       "      <th>0</th>\n",
       "      <td>-8.7354573,42.2239522</td>\n",
       "      <td>1</td>\n",
       "      <td>a1</td>\n",
       "    </tr>\n",
       "    <tr>\n",
       "      <th>1</th>\n",
       "      <td>-8.7354573,42.2239522</td>\n",
       "      <td>2</td>\n",
       "      <td>a1</td>\n",
       "    </tr>\n",
       "    <tr>\n",
       "      <th>2</th>\n",
       "      <td>-8.8932563,42.1011589</td>\n",
       "      <td>1</td>\n",
       "      <td>c3</td>\n",
       "    </tr>\n",
       "    <tr>\n",
       "      <th>3</th>\n",
       "      <td>-8.8932563,42.1011589</td>\n",
       "      <td>2</td>\n",
       "      <td>c3</td>\n",
       "    </tr>\n",
       "  </tbody>\n",
       "</table>\n",
       "</div>"
      ],
      "text/plain": [
       "               locations id other_locations\n",
       "0  -8.7354573,42.2239522  1              a1\n",
       "1  -8.7354573,42.2239522  2              a1\n",
       "2  -8.8932563,42.1011589  1              c3\n",
       "3  -8.8932563,42.1011589  2              c3"
      ]
     },
     "execution_count": 29,
     "metadata": {},
     "output_type": "execute_result"
    }
   ],
   "source": [
    "result = operation.apply(df)\n",
    "expected = array(\n",
    "    [\n",
    "        \"-8.7354573,42.2239522\",\n",
    "        \"-8.7354573,42.2239522\",\n",
    "        \"-8.8932563,42.1011589\",\n",
    "        \"-8.8932563,42.1011589\",\n",
    "    ],\n",
    "    dtype=str,\n",
    ")\n",
    "assert (result[\"locations\"].values == expected).all()\n",
    "expected = array([\"a1\", \"a1\", \"c3\", \"c3\"], dtype=str)\n",
    "assert (result[\"other_locations\"].values == expected).all()\n",
    "\n",
    "result"
   ]
  }
 ],
 "metadata": {
  "kernelspec": {
   "display_name": "env",
   "language": "python",
   "name": "python3"
  },
  "language_info": {
   "codemirror_mode": {
    "name": "ipython",
    "version": 3
   },
   "file_extension": ".py",
   "mimetype": "text/x-python",
   "name": "python",
   "nbconvert_exporter": "python",
   "pygments_lexer": "ipython3",
   "version": "3.9.6"
  },
  "orig_nbformat": 4
 },
 "nbformat": 4,
 "nbformat_minor": 2
}
